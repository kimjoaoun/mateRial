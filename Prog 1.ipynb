{
 "cells": [
  {
   "cell_type": "code",
   "execution_count": 3,
   "metadata": {},
   "outputs": [
    {
     "data": {
      "text/plain": [
       "False"
      ]
     },
     "execution_count": 3,
     "metadata": {},
     "output_type": "execute_result"
    }
   ],
   "source": [
    "#Usando o turtle\n",
    "#Importe a library turtle\n",
    "import turtle\n",
    "\n",
    "pat.fd(10) #em unidades inteiras\n",
    "pat.left(90) #em graus\n",
    "pat.fd(30)\n",
    "pat.left(90)"
   ]
  },
  {
   "cell_type": "code",
   "execution_count": 6,
   "metadata": {},
   "outputs": [
    {
     "name": "stdout",
     "output_type": "stream",
     "text": [
      "42h:8min\n"
     ]
    }
   ],
   "source": [
    "# Como formatar em XXh:XXm\n",
    "#Strings\n",
    "\n",
    "h=3160//75 #Resultado: 42\n",
    "min=3160%75*60//75 #Resultado: 8\n",
    "\n",
    "print(str(h)+\"h\" + \":\" + str(min) + \"min\") #Como não é possível somar strings, se faz necessário converter por meio de str() o número em string\n"
   ]
  },
  {
   "cell_type": "markdown",
   "metadata": {},
   "source": [
    "### TURTLE"
   ]
  },
  {
   "cell_type": "markdown",
   "metadata": {},
   "source": [
    "Um objeto em Python tem métodos e propriedades. O que são propriedades? São caracteristicas que estão associadas a objetivos que modelam o objeto de acordo com o que é necessário dele.\n",
    "Por exemplo, se você quer saber se a porta está aberta, o seu tamanho, seu peso, você está precisando das propriedades da porta, mudar a cor também está incluso ai.\n",
    "Os métodos estão ligados à ação. Por exemplo, alterar a temperatura do ar-condicionado, sendo o aparelho o objeto.\n",
    "Quando você indica \"turtle.goto(x), você está fazendo uma ação, elas estão sempre entre parênteses."
   ]
  },
  {
   "cell_type": "code",
   "execution_count": null,
   "metadata": {},
   "outputs": [],
   "source": [
    "import turtle\n",
    "pat=turtle.Turtle()\n",
    "pat= turtle.Turtle(shape='turtle')\n",
    "\n",
    "pat.fd(10)\n",
    "pat.left(90)\n",
    "pat.fd(30)\n",
    "pat.left(90)\n",
    "pat.fd(50)\n",
    "pat.left(180)\n",
    "pat.fd(30)\n",
    "pat.left(270)"
   ]
  },
  {
   "cell_type": "markdown",
   "metadata": {},
   "source": [
    "O turtle também aceita mudanças de cor e grossura de traço, por meio dos comandos\n",
    "pat.width()\n",
    "pat.color()"
   ]
  },
  {
   "cell_type": "code",
   "execution_count": null,
   "metadata": {},
   "outputs": [],
   "source": [
    "pat.color('blue')\n"
   ]
  },
  {
   "cell_type": "code",
   "execution_count": null,
   "metadata": {},
   "outputs": [],
   "source": [
    "#Criando um quadrado com o Turtle\n",
    "\n",
    "pat.fd(100)\n",
    "pat.left(90)\n",
    "pat.fd(100)\n",
    "pat.left(90)\n",
    "pat.fd(100)\n",
    "pat.lt(90)\n",
    "pat.fd(100)"
   ]
  },
  {
   "cell_type": "code",
   "execution_count": null,
   "metadata": {},
   "outputs": [],
   "source": [
    "# Criando um quadrado verde com o Turtle\n",
    "pat.begin_fill()\n",
    "pat.fillcolor('green')\n",
    "pat.fd(100)\n",
    "pat.left(90)\n",
    "pat.fd(100)\n",
    "pat.left(90)\n",
    "pat.fd(100)\n",
    "pat.lt(90)\n",
    "pat.fd(100)\n",
    "pat.end_fill()"
   ]
  },
  {
   "cell_type": "code",
   "execution_count": null,
   "metadata": {},
   "outputs": [],
   "source": [
    "# Se você quiser desenhar um losango, faça\n",
    "\n",
    "pat.leff(45)\n",
    "pat.begin_fill()\n",
    "pat.fillcolor('green')\n",
    "pat.fd(100)\n",
    "pat.left(90)\n",
    "pat.fd(100)\n",
    "pat.left(90)\n",
    "pat.fd(100)\n",
    "pat.lt(90)\n",
    "pat.fd(100)\n",
    "pat.end_fill()"
   ]
  },
  {
   "cell_type": "code",
   "execution_count": null,
   "metadata": {},
   "outputs": [],
   "source": [
    "# Desenhar uma bandeira do flamengo\n",
    "\n",
    "\n",
    "pat.reset()\n",
    "pat.begin_fill()\n",
    "pat.fillcolor('black')\n",
    "pat.fd(150)\n",
    "pat.lt(90)\n",
    "pat.fd(30)\n",
    "pat.left(90)\n",
    "pat.fd(150)\n",
    "pat.end_fill()\n",
    "pat.up()\n",
    "pat.right(90)\n",
    "pat.begin_fill('red')\n",
    "pat.down()\n",
    "\n"
   ]
  }
 ],
 "metadata": {
  "kernelspec": {
   "display_name": "Python 3",
   "language": "python",
   "name": "python3"
  },
  "language_info": {
   "codemirror_mode": {
    "name": "ipython",
    "version": 3
   },
   "file_extension": ".py",
   "mimetype": "text/x-python",
   "name": "python",
   "nbconvert_exporter": "python",
   "pygments_lexer": "ipython3",
   "version": "3.7.1"
  }
 },
 "nbformat": 4,
 "nbformat_minor": 2
}
